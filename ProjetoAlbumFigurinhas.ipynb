{
  "nbformat": 4,
  "nbformat_minor": 0,
  "metadata": {
    "colab": {
      "name": "ProjetoAlbumFigurinhas.ipynb",
      "provenance": [],
      "authorship_tag": "ABX9TyPT+vz4jkm2hX6vynbQ6mwK",
      "include_colab_link": true
    },
    "kernelspec": {
      "name": "python3",
      "display_name": "Python 3"
    },
    "language_info": {
      "name": "python"
    }
  },
  "cells": [
    {
      "cell_type": "markdown",
      "metadata": {
        "id": "view-in-github",
        "colab_type": "text"
      },
      "source": [
        "<a href=\"https://colab.research.google.com/github/IagoAntunes/Python__learning/blob/master/ProjetoAlbumFigurinhas.ipynb\" target=\"_parent\"><img src=\"https://colab.research.google.com/assets/colab-badge.svg\" alt=\"Open In Colab\"/></a>"
      ]
    },
    {
      "cell_type": "code",
      "metadata": {
        "id": "gmy7RjnZdKn_"
      },
      "source": [
        "n_album = 212\n",
        "preco_pacote = 4\n",
        "cromos_por_pacote = 4\n",
        "preco_album = 10\n",
        "\n"
      ],
      "execution_count": null,
      "outputs": []
    },
    {
      "cell_type": "code",
      "metadata": {
        "id": "SK5RIAI41L9R"
      },
      "source": [
        "def SimulaAlbum():\n",
        "    album=np.zeros(n_album)\n",
        "    pacotes = 0\n",
        "    while True:\n",
        "      pacotinho = np.random.choice(np.arange(0,n_album) , size = 4)\n",
        "      pacotes += 1\n",
        "      for i in [0, 1, 2 ,3]:\n",
        "        album[pacotinho[i]] += 1\n",
        "      if np.all(album >= 1):\n",
        "        break;\n",
        "\n",
        "    custo = pacotes*preco_pacote + preco_album\n",
        "    return custo\n"
      ],
      "execution_count": null,
      "outputs": []
    },
    {
      "cell_type": "code",
      "metadata": {
        "id": "SJqPF8DS4agD"
      },
      "source": [
        "S = 1000\n",
        "resultados = []\n",
        "\n",
        "for i in range(S):\n",
        "  pessoa = SimulaAlbum()\n",
        "  resultados.append(pessoa)\n",
        "\n",
        "\n",
        "sim = np.array(resultados)"
      ],
      "execution_count": null,
      "outputs": []
    },
    {
      "cell_type": "code",
      "metadata": {
        "colab": {
          "base_uri": "https://localhost:8080/"
        },
        "id": "MBwaY2mo98S5",
        "outputId": "9eaa3d0b-41d4-404b-95d3-4372e7814fd6"
      },
      "source": [
        "sim"
      ],
      "execution_count": null,
      "outputs": [
        {
          "output_type": "execute_result",
          "data": {
            "text/plain": [
              "array([1310, 1130, 1458, 1658, 1158, 1050, 1194, 1210,  938, 1326, 1134,\n",
              "       1342, 1270, 1086, 1238, 1394, 1774, 1762, 1210, 1270, 1082, 1670,\n",
              "       1338, 1086, 1374, 1454, 1190, 1286, 1246, 1722, 1478, 1410, 1470,\n",
              "        990, 1402, 1174, 1130, 1442, 1230, 1010, 1382,  942, 1146,  914,\n",
              "       1154, 1126, 1054, 1118,  838, 1202,  938, 1194, 1266, 1198, 1446,\n",
              "       1266, 1018, 1126, 1062, 1022, 1366, 1018,  970, 1210, 1186, 1246,\n",
              "       1194, 1470, 1158, 1094, 1406, 1098, 1210, 1178, 1538, 1022, 1194,\n",
              "       1346, 1506, 1018, 1318, 1254, 1134, 1142, 1038, 1294,  874, 1138,\n",
              "       1090, 1142, 1722,  910,  946, 1246, 1030, 1454,  910, 1618, 1322,\n",
              "       1390, 1314,  942, 1330, 1250, 1382,  926, 1142, 1566, 1086, 1066,\n",
              "       1046, 1698, 1106, 1846,  886, 1058, 1298, 1402, 1030, 1754, 1062,\n",
              "       1402, 1438, 1214, 1046, 1378, 1754, 1566, 1014, 1330, 1714, 1202,\n",
              "       1054,  842, 1026, 1138, 1594, 1114, 1506, 1282, 1422, 1210, 1342,\n",
              "       1026, 1022, 1650, 1050, 1402, 1070, 1398, 1598, 1114, 1710,  946,\n",
              "       1218, 1406, 1150, 1038, 1018, 1058, 1242, 1090,  930, 1350, 1742,\n",
              "        878, 1206, 1182, 1450, 1482, 1654, 2086, 1210, 1106, 1046, 1174,\n",
              "       1290,  978, 1206, 1490,  946, 1330, 1158, 1178,  974, 1602, 1074,\n",
              "       1330, 1110, 1374, 1018, 1306, 1174, 1174,  946, 1138, 1058, 1306,\n",
              "       1278, 1110, 1286, 1206, 1718,  890, 1058, 1158, 1554, 1058, 1270,\n",
              "       1106, 1090, 1230, 1242,  810, 1514, 1386, 1254, 1246,  966, 1610,\n",
              "       1198, 1306, 1206, 1182, 1174, 1278, 1142, 1494, 1350,  910, 1558,\n",
              "       1150, 1454, 1450, 1410, 1050, 1538, 1510, 1278, 1626, 1050, 1434,\n",
              "       1082, 1146, 1266, 1366, 1370, 1246, 1454,  906, 1606, 1198, 1038,\n",
              "       1266, 1402, 1510,  938,  914,  974, 1642, 1022, 1438, 1898, 1638,\n",
              "       1186, 1146, 1406, 1262, 1042, 1278, 1462, 1170,  778, 1294, 1382,\n",
              "        862,  970, 1054, 1242, 1618,  962, 1586, 1386, 1282,  822, 1050,\n",
              "       1330, 1346, 1802, 1126,  970, 1326, 1114, 1038,  934, 1394, 1286,\n",
              "       1322, 1026, 1474, 1098, 1102, 1274, 1602, 1646,  978, 1354, 1722,\n",
              "        946, 1090,  958, 2202, 1122, 1130, 1262, 1298, 1126, 1130, 1890,\n",
              "       1206, 1994, 1586, 1498, 1334, 2366, 1410, 1402, 1030,  946, 1034,\n",
              "       1678, 1590, 1198, 1606, 1202, 1006, 1162, 1170,  870, 1338, 1346,\n",
              "       1170, 1470, 1262, 1370, 1294, 1126, 1086, 1126, 1566, 1210, 1046,\n",
              "       1058, 1190, 1294,  982, 1238, 1454, 1258, 1210, 1054, 1302, 1462,\n",
              "       1154,  966, 1198, 1086, 1102, 1342, 1506, 1310, 1134, 1122, 1018,\n",
              "       1510, 1330, 1494, 1182, 1438, 1626,  958, 1106, 1158, 1106, 1474,\n",
              "       1282, 1538, 1010, 1150, 1566,  954, 1394, 1302, 1370, 1434, 1018,\n",
              "       1086, 1418,  998, 1158, 1250, 1162,  982, 1350, 1002, 1722,  966,\n",
              "       1986, 1266,  962, 1406, 1126, 1230, 1138, 1082, 1290, 1134, 1174,\n",
              "        922, 1222, 1658, 1050, 1194, 1330, 1250, 1366, 1090, 1278,  910,\n",
              "        962, 1258, 1094,  978, 1074, 1046, 1222, 1302, 1054, 1090,  966,\n",
              "        970, 1606, 1058, 1670,  986, 1210, 1170, 1458, 1226, 1410, 1278,\n",
              "        970, 1026, 2006, 1366, 1070, 1434,  922,  886, 1446, 1594, 1074,\n",
              "       1286, 1430, 1594, 1242, 1274, 1486, 1222, 1222, 1630, 1682, 1362,\n",
              "       1222, 1118,  826, 1198, 1234, 1254, 2474,  838, 2046, 1202, 1402,\n",
              "       1226, 1630, 1022, 1482, 1458, 1210,  974, 1494, 1486, 1326, 1526,\n",
              "       1290, 1142, 1162, 1014, 1366, 1214, 1158, 1390, 1462,  970, 1074,\n",
              "       1134, 1574, 1154, 1154, 1078, 1718, 1218, 1214, 1182, 1510, 1146,\n",
              "        950, 1182,  882,  894, 1114, 1502, 1386, 1034, 2318, 1338, 1234,\n",
              "       1058, 1254, 1030, 1738, 1430, 1862, 1146,  950,  794, 1238,  918,\n",
              "       1254, 1058, 1138, 1150, 1394,  902, 1254, 1238, 1154,  882, 1222,\n",
              "       1278, 1030, 1242, 1470, 1186, 1122, 1110,  970, 1434, 1158, 1002,\n",
              "       1146,  998, 1142, 1258, 1326, 1010, 1010, 1362, 1334, 1246, 1174,\n",
              "        970, 1246, 1402, 1630,  902, 1054,  990, 1198, 1154, 1066, 1106,\n",
              "       1510, 1054,  994, 1054,  986, 1422, 1318, 1246,  882, 1026, 1326,\n",
              "       1230, 1694, 2026, 1414, 1470,  894, 1342, 1010, 1310, 1238, 1070,\n",
              "       1210, 1618, 1266, 1162, 1202, 1450, 1094, 1266, 1430, 1158, 1234,\n",
              "        958, 1710, 1154, 1062, 1014, 1190, 1070, 1182, 1598, 1278, 1342,\n",
              "       1834, 1146,  998, 1250, 1494,  938,  998, 1306, 1402, 1166, 1238,\n",
              "       1042,  990,  962, 1274, 1286, 1226,  982,  938, 1422,  918, 1482,\n",
              "       1134, 1362, 1026, 1386,  990, 1338, 1322, 1118, 1026,  850, 1502,\n",
              "       1654, 1530, 1446, 1422, 1454, 1170, 1046,  874, 1118, 1366, 1222,\n",
              "       1118,  962, 1210, 1398, 1318, 1146, 1130, 1058, 1746, 1162, 1118,\n",
              "       1410, 1330,  930,  986, 1014, 1154, 1106, 1718, 1030, 1202, 1678,\n",
              "       1150, 1554, 1074, 1078, 1046, 1566, 1374, 1306, 1262,  954, 1906,\n",
              "       1478, 1258, 1574, 1162, 1330,  890, 1354, 1562, 1186, 1034,  822,\n",
              "       1258, 1450, 1114, 1906, 1334, 1246, 1730, 1046, 1466, 1694,  982,\n",
              "       1326, 1158, 1406, 1350, 1450, 1238, 1302, 1074, 2054, 1554, 1242,\n",
              "       1366, 1014, 1550,  706, 1166, 1962, 1034, 1270, 1162, 1294, 1202,\n",
              "       1170, 1070,  902, 1134,  994, 1266, 1594, 1122, 1310, 1206, 1070,\n",
              "       1282, 1070,  934, 1374, 1370, 1994, 1406,  978, 1062, 1550, 1542,\n",
              "       1230, 1106, 1306,  894, 1430, 1334, 1526, 1078, 1170, 1230, 1450,\n",
              "       1286, 1042, 1210, 1002, 1042, 1434, 1182, 1370, 1746, 1738, 1114,\n",
              "       1266, 1154, 1002,  954, 1322, 1162, 1030, 1006, 1414, 1482, 1126,\n",
              "       1058, 1830, 1306, 1238, 1078, 1366, 1202, 1078, 1098, 1126, 1330,\n",
              "       1170,  922, 1322, 1222, 1298, 1086, 1118, 1194, 1658, 1030, 1122,\n",
              "       1254, 1282,  878, 1094, 1298, 1286, 1130, 1478, 1554, 1054,  890,\n",
              "       1258, 1050, 1158, 1586, 1406, 1530, 1470, 1106, 1258, 1606, 1230,\n",
              "       1342,  962,  898, 1394, 1274, 1158, 1138, 1038, 1266,  934, 1354,\n",
              "       1326, 1326, 1310, 1070, 1114, 1178, 1318, 1214, 1078, 1346, 1650,\n",
              "        998, 1242,  974, 1162, 1158, 1010, 1666, 1630, 1126, 1098, 1378,\n",
              "        962, 1514, 1578, 1550, 1178, 1078, 1038, 1090, 1306, 1638,  978,\n",
              "       1534, 1090,  930, 1098, 1222, 1306, 1430, 1402,  970, 1754,  994,\n",
              "       1002,  994, 1658, 1306,  830, 1062, 1194, 1154, 1062, 1262, 1126,\n",
              "       1026, 1226, 1178, 1322, 1102, 1378, 1166,  958, 1162, 1386, 1142,\n",
              "       1222, 1174, 1194, 1058, 1106,  882, 2454, 1062,  874, 1294,  998,\n",
              "        938, 1386, 1030, 1214, 1122, 1134, 1246, 1186, 1282, 1462, 1222,\n",
              "       1282, 1134, 1470, 1210, 1078, 1158, 1322, 1266, 1366, 1286, 1534,\n",
              "       1026, 1566, 1190, 1090, 1166, 1154, 1114, 1470, 1846, 1230, 1182,\n",
              "       1626, 1422, 1010, 1222, 1606,  990, 1410, 1094, 1450, 1302, 1130,\n",
              "        994, 1898, 1134, 1298, 1306, 1486, 2266, 1530, 1070, 1150, 1766,\n",
              "       1558,  966, 1362, 1186, 1298, 1110,  998, 1386, 1014, 1130])"
            ]
          },
          "metadata": {
            "tags": []
          },
          "execution_count": 98
        }
      ]
    },
    {
      "cell_type": "code",
      "metadata": {
        "colab": {
          "base_uri": "https://localhost:8080/",
          "height": 283
        },
        "id": "KJcW_tpU8lga",
        "outputId": "98b691ab-dddb-4b51-8699-85f8ccb8d42c"
      },
      "source": [
        "import matplotlib.pyplot as plt\n",
        "plt.hist(sim, bins = 20, density = True, color = 'royalblue', edgecolor = 'black')\n",
        "plt.title('Distribuição Empírica do Valor Gasto para Completar o Álbum')\n",
        "plt.show()"
      ],
      "execution_count": null,
      "outputs": [
        {
          "output_type": "display_data",
          "data": {
            "image/png": "[encoded data removed]",
            "text/plain": [
              "<Figure size 432x288 with 1 Axes>"
            ]
          },
          "metadata": {
            "tags": [],
            "needs_background": "light"
          }
        }
      ]
    },
    {
      "cell_type": "code",
      "metadata": {
        "colab": {
          "base_uri": "https://localhost:8080/"
        },
        "id": "zEvcgq3a_K7r",
        "outputId": "9a382995-f13a-4763-c381-9ed717ae24e8"
      },
      "source": [
        "# questoes 4 e 5\n",
        " \n",
        "prob1 = sum(np.array(sim) < 1500)/S\n",
        "prob2 = sum(np.array(sim) > np.array(sim).mean())/S\n",
        " \n",
        "print('A probabilidade de se gastar menos de 1500 é {:.2f}%'.format(prob1*100))\n",
        "print('A probabilidade de se gastar mais do que a média é {:.2f}%'.format(prob2*100))"
      ],
      "execution_count": null,
      "outputs": [
        {
          "output_type": "stream",
          "text": [
            "A probabilidade de se gastar menos de 1500 é 86.10%\n",
            "A probabilidade de se gastar mais do que a média é 43.40%\n"
          ],
          "name": "stdout"
        }
      ]
    },
    {
      "cell_type": "code",
      "metadata": {
        "colab": {
          "base_uri": "https://localhost:8080/"
        },
        "id": "V-0QERBNAyGA",
        "outputId": "b071c0f0-c123-4edc-d178-b64c9790a5df"
      },
      "source": [
        "# questao 6\n",
        "\n",
        "qts = np.quantile(sim, [0.025, 0.975])\n",
        "print('O intervalo de confiança de 95% para o gasto total é ({:.2f}, {:.2f})'.format(qts[0], qts[1]))"
      ],
      "execution_count": 107,
      "outputs": [
        {
          "output_type": "stream",
          "text": [
            "O intervalo de confiança de 95% para o gasto total é (889.90, 1802.70)\n"
          ],
          "name": "stdout"
        }
      ]
    },
    {
      "cell_type": "code",
      "metadata": {
        "colab": {
          "base_uri": "https://localhost:8080/"
        },
        "id": "rHUj73LUBD-P",
        "outputId": "b1fbee72-3de3-497c-b946-d5be390ea298"
      },
      "source": [
        "# comprando figurinhas até completar o álbum\n",
        "def SimulaAlbum(qtde_albuns = 1):\n",
        "    album = np.zeros(n_album) \n",
        "    pacotes = 0\n",
        "    while not np.all(album >= qtde_albuns):\n",
        "        pacotinho = np.random.choice(range(n_album), 4)\n",
        "        pacotes += 1\n",
        "\n",
        "        for i in pacotinho:\n",
        "            album[i] += 1\n",
        " \n",
        "\n",
        "    valor_gasto = qtde_albuns*preco_album + preco_pacote * pacotes \n",
        "    valor_gasto_por_album = valor_gasto/qtde_albuns\n",
        "\n",
        "    return valor_gasto, pacotes, valor_gasto_por_album\n",
        "\n",
        "SimulaAlbum(2)"
      ],
      "execution_count": 123,
      "outputs": [
        {
          "output_type": "execute_result",
          "data": {
            "text/plain": [
              "(1880, 465, 940.0)"
            ]
          },
          "metadata": {
            "tags": []
          },
          "execution_count": 123
        }
      ]
    },
    {
      "cell_type": "code",
      "metadata": {
        "id": "9wyRQuQ1FNrA",
        "outputId": "34d7b680-942b-4631-91c8-b4d723d9ff97",
        "colab": {
          "base_uri": "https://localhost:8080/"
        }
      },
      "source": [
        "def Simulacao(qtde_albuns, simulacoes = 1000, silencio = False):\n",
        "    valores = []\n",
        "    for i in range(simulacoes):\n",
        "        valores.append(SimulaAlbum(qtde_albuns)[2])\n",
        "        if not silencio:\n",
        "            if (i+1) % 100 == 0:\n",
        "                print('Simulação: ', i+1, '/', simulacoes)\n",
        "    return valores\n",
        "\n",
        "sim = Simulacao(qtde_albuns = 2, simulacoes = 100)"
      ],
      "execution_count": 124,
      "outputs": [
        {
          "output_type": "stream",
          "text": [
            "Simulação:  100 / 100\n"
          ],
          "name": "stdout"
        }
      ]
    },
    {
      "cell_type": "code",
      "metadata": {
        "id": "LtG3eKsBFSdS",
        "outputId": "0a54e6ed-8cb7-4ffb-a129-43482435402c",
        "colab": {
          "base_uri": "https://localhost:8080/"
        }
      },
      "source": [
        "# questões 7 e 8\n",
        "\n",
        "sim2 = Simulacao(2, 100, silencio = True) \n",
        "c2 = np.array(sim2).mean() \n",
        "\n",
        "sim3 = Simulacao(3, 100, silencio = True) \n",
        "c3 = np.array(sim3).mean()  \n",
        "\n",
        "print('Custo médio entre 2 amigos:', round(c2, 2) )\n",
        "print('Custo médio entre 3 amigos:', round(c3, 2) )"
      ],
      "execution_count": 125,
      "outputs": [
        {
          "output_type": "stream",
          "text": [
            "Custo médio entre 2 amigos: 885.18\n",
            "Custo médio entre 3 amigos: 718.63\n"
          ],
          "name": "stdout"
        }
      ]
    },
    {
      "cell_type": "code",
      "metadata": {
        "id": "1o9J4Xj3FVp-",
        "outputId": "8e014404-d2c5-48fd-fff8-fedf576b6389",
        "colab": {
          "base_uri": "https://localhost:8080/"
        }
      },
      "source": [
        "import time\n",
        "def SimulacaoAmigos(amigos = 40, simulacoes = 10):\n",
        "    medias = []\n",
        "    amigos = list(range(1, amigos + 1, 1))\n",
        "    for i in amigos: \n",
        "        t = time.time()\n",
        "        aux = Simulacao(i, simulacoes, silencio = True)\n",
        "        tempo = round(time.time() - t, 2)\n",
        "        print('Tempo total de {}s para a simulação com {} amigo(s)'.format(tempo, i))\n",
        "        medias.append(np.array(aux).mean())\n",
        "    return amigos, medias\n",
        "\n",
        "sim_amigos = SimulacaoAmigos(amigos = 10, simulacoes = 5)"
      ],
      "execution_count": 127,
      "outputs": [
        {
          "output_type": "stream",
          "text": [
            "Tempo total de 0.1s para a simulação com 1 amigo(s)\n",
            "Tempo total de 0.15s para a simulação com 2 amigo(s)\n",
            "Tempo total de 0.21s para a simulação com 3 amigo(s)\n",
            "Tempo total de 0.36s para a simulação com 4 amigo(s)\n",
            "Tempo total de 0.33s para a simulação com 5 amigo(s)\n",
            "Tempo total de 0.33s para a simulação com 6 amigo(s)\n",
            "Tempo total de 0.57s para a simulação com 7 amigo(s)\n",
            "Tempo total de 0.44s para a simulação com 8 amigo(s)\n",
            "Tempo total de 0.54s para a simulação com 9 amigo(s)\n",
            "Tempo total de 0.49s para a simulação com 10 amigo(s)\n"
          ],
          "name": "stdout"
        }
      ]
    },
    {
      "cell_type": "code",
      "metadata": {
        "id": "uCqrbek_FXDD",
        "outputId": "47b5feda-d6c4-4548-bc45-09b2c0700590",
        "colab": {
          "base_uri": "https://localhost:8080/",
          "height": 420
        }
      },
      "source": [
        "import math\n",
        "\n",
        "def GraficoCustoAmigos(simulacao):\n",
        "\n",
        "    minimo_possivel = math.ceil(n_album/cromos_por_pacote)*preco_pacote \n",
        "\n",
        "    plt.figure(figsize=(18, 6))\n",
        "    plt.bar(simulacao[0], simulacao[1], width = 0.5, color = 'royalblue')\n",
        "    plt.xticks(simulacao[0])\n",
        "    plt.axhline(y = minimo_possivel, linestyle = 'dashed', color = 'blue')\n",
        "    plt.title('Custo médio aproximado para\\n completar o álbum em função do tamanho\\n do grupo de pessoas trocando figurinhas')\n",
        "    plt.show()\n",
        "\n",
        "GraficoCustoAmigos(sim_amigos)"
      ],
      "execution_count": 129,
      "outputs": [
        {
          "output_type": "display_data",
          "data": {
            "image/png": "[encoded data removed]",
            "text/plain": [
              "<Figure size 1296x432 with 1 Axes>"
            ]
          },
          "metadata": {
            "tags": [],
            "needs_background": "light"
          }
        }
      ]
    }
  ]
}